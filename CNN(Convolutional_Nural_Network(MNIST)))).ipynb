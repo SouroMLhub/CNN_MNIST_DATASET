{
  "nbformat": 4,
  "nbformat_minor": 0,
  "metadata": {
    "colab": {
      "name": "CNN(Convolutional Nural Network(MNIST)))).ipynb",
      "provenance": [],
      "collapsed_sections": [],
      "include_colab_link": true
    },
    "kernelspec": {
      "name": "python3",
      "display_name": "Python 3"
    }
  },
  "cells": [
    {
      "cell_type": "markdown",
      "metadata": {
        "id": "view-in-github",
        "colab_type": "text"
      },
      "source": [
        "<a href=\"https://colab.research.google.com/github/SouroMLhub/CNN_MNIST_DATASET/blob/master/CNN(Convolutional_Nural_Network(MNIST)))).ipynb\" target=\"_parent\"><img src=\"https://colab.research.google.com/assets/colab-badge.svg\" alt=\"Open In Colab\"/></a>"
      ]
    },
    {
      "cell_type": "code",
      "metadata": {
        "id": "6I-VI3X2U4bN",
        "colab_type": "code",
        "colab": {}
      },
      "source": [
        "import tensorflow as tf"
      ],
      "execution_count": 0,
      "outputs": []
    },
    {
      "cell_type": "code",
      "metadata": {
        "id": "K-9I3cmrVQK0",
        "colab_type": "code",
        "outputId": "a6eb4ab1-d495-4bbb-fb3c-98b8d60b2eb2",
        "colab": {
          "base_uri": "https://localhost:8080/",
          "height": 87
        }
      },
      "source": [
        "from tensorflow.examples.tutorials.mnist import input_data\n",
        "mnist = input_data.read_data_sets(\"MNIST_data/\", one_hot = True)"
      ],
      "execution_count": 0,
      "outputs": [
        {
          "output_type": "stream",
          "text": [
            "Extracting MNIST_data/train-images-idx3-ubyte.gz\n",
            "Extracting MNIST_data/train-labels-idx1-ubyte.gz\n",
            "Extracting MNIST_data/t10k-images-idx3-ubyte.gz\n",
            "Extracting MNIST_data/t10k-labels-idx1-ubyte.gz\n"
          ],
          "name": "stdout"
        }
      ]
    },
    {
      "cell_type": "code",
      "metadata": {
        "id": "MfcU2AGMVZ-7",
        "colab_type": "code",
        "colab": {}
      },
      "source": [
        "#initializing input\n",
        "input_width = 28\n",
        "input_height = 28\n",
        "input_channels = 1\n",
        "input_pixels = 784\n",
        "\n",
        "#units in convolutional Layer\n",
        "n_convlayer1 = 32\n",
        "n_convlayer2 = 64\n",
        "#stride size for convolutional Layer\n",
        "stride_conv1 = 1\n",
        "stride_conv2 = 1\n",
        "#filter size for convolutional Layer\n",
        "conv1_k = 5\n",
        "conv2_k = 5\n",
        "#pooling layer\n",
        "max_pool1_k = 2\n",
        "max_pool2_k = 2\n",
        "#hidden layer and output layer\n",
        "n_hidden = 1024\n",
        "n_out = 10\n",
        "#input to hidden layer(7*7*64)\n",
        "input_size_to_hiddden=(input_width//(max_pool1_k*max_pool2_k) *  input_height//(max_pool1_k*max_pool2_k)) * n_convlayer2 "
      ],
      "execution_count": 0,
      "outputs": []
    },
    {
      "cell_type": "code",
      "metadata": {
        "id": "xFL2Qw2ZW9gR",
        "colab_type": "code",
        "colab": {}
      },
      "source": [
        "#initializing Weights\n",
        "weights = {\n",
        "    #weight for convolutinal layers\n",
        "    \"wc1\": tf.Variable(tf.random_normal([conv1_k, conv1_k, input_channels, n_convlayer1])),\n",
        "    \"wc2\": tf.Variable(tf.random_normal([conv2_k, conv2_k, n_convlayer1, n_convlayer2])),\n",
        "    #weight for hidden layer\n",
        "    \"wh1\": tf.Variable(tf.random_normal([input_size_to_hiddden, n_hidden])),\n",
        "    #weight fro output layer\n",
        "    \"wo\":  tf.Variable(tf.random_normal([n_hidden, n_out]))\n",
        "    \n",
        "}\n",
        "\n",
        "#initializing biases\n",
        "biases = {\n",
        "    #biases for convolutional layers\n",
        "    \"bc1\": tf.Variable(tf.random_normal([n_convlayer1])),\n",
        "    \"bc2\": tf.Variable(tf.random_normal([n_convlayer2])),\n",
        "    #bias for hidden layer\n",
        "    \"bh1\": tf.Variable(tf.random_normal([n_hidden ])),\n",
        "    #bias for output layer\n",
        "    \"bo\": tf.Variable(tf.random_normal([n_out]))\n",
        "}"
      ],
      "execution_count": 0,
      "outputs": []
    },
    {
      "cell_type": "code",
      "metadata": {
        "id": "OQrGE_kngAgx",
        "colab_type": "code",
        "colab": {}
      },
      "source": [
        "#forward propagation\n",
        "def cnn(x, weights, biases, keep_prob):\n",
        "  #reshaping the mnist image\n",
        "  x = tf.reshape(x, shape = [-1, input_width, input_height, input_channels])\n",
        "  #calling funtion for convlutional layer1\n",
        "  convLayer1 = conv(x, weights['wc1'], biases['bc1'], stride_conv1)\n",
        "  #calling funtion for maxpooling layer1\n",
        "  conv1Pool = maxpooling(convLayer1, max_pool1_k)\n",
        "  \n",
        "  #calling funtion for convlutional layer2\n",
        "  convLayer2 = conv(conv1Pool, weights['wc2'], biases['bc2'], stride_conv2)\n",
        "  #calling funtion for maxpooling layer2\n",
        "  conv2Pool = maxpooling(convLayer2, max_pool2_k)\n",
        "  \n",
        "  #reshaping(input to the hidden layer)\n",
        "  hidden_input = tf.reshape(conv2Pool, shape = [-1, input_size_to_hiddden])\n",
        "  #passing the input to the hidden layer(Dense layer)\n",
        "  hidden_ouput_before_activation = tf.add(tf.matmul(hidden_input, weights['wh1']), biases['bh1'])\n",
        "  #applying activation function to the hidden layer\n",
        "  hidden_ouput_before_dropout = tf.nn.relu(hidden_ouput_before_activation)\n",
        "  #hiddenlayer output after dropout\n",
        "  hidden_output = tf.nn.dropout(hidden_ouput_before_dropout, keep_prob)\n",
        "  #output(no activation function)\n",
        "  output = tf.add(tf.matmul(hidden_output, weights['wo']), biases['bo']) \n",
        "  return output"
      ],
      "execution_count": 0,
      "outputs": []
    },
    {
      "cell_type": "code",
      "metadata": {
        "id": "wng3CC-VtBtT",
        "colab_type": "code",
        "colab": {}
      },
      "source": [
        "#Convolutional function\n",
        "def conv(x, weights, bias, strides = 1):\n",
        "  #applying filter to the image\n",
        "  out = tf.nn.conv2d(x, weights, padding = \"SAME\", strides = [1, strides, strides, 1])\n",
        "  #adding biases\n",
        "  out = tf.nn.bias_add(out, bias)\n",
        "  #activation function\n",
        "  out = tf.nn.relu(out)\n",
        "  return out\n",
        "\n",
        "#Maxpooling function\n",
        "def maxpooling(x, k= 2):\n",
        "  return tf.nn.max_pool(x, padding = \"SAME\", ksize = [1, k, k ,1], strides = [1, k, k, 1])"
      ],
      "execution_count": 0,
      "outputs": []
    },
    {
      "cell_type": "code",
      "metadata": {
        "id": "1IYY2LGtv3Mn",
        "colab_type": "code",
        "colab": {}
      },
      "source": [
        "x = tf.placeholder(\"float\", [None, input_pixels])\n",
        "y = tf.placeholder(tf.int32, [None, n_out])\n",
        "keep_prob = tf.placeholder(\"float\")\n",
        "pred = cnn(x, weights, biases, keep_prob)"
      ],
      "execution_count": 0,
      "outputs": []
    },
    {
      "cell_type": "code",
      "metadata": {
        "id": "ukwLUt2jwrwl",
        "colab_type": "code",
        "colab": {}
      },
      "source": [
        "#fidning cost\n",
        "cost = tf.reduce_mean(tf.nn.softmax_cross_entropy_with_logits_v2(logits =pred, labels = y))"
      ],
      "execution_count": 0,
      "outputs": []
    },
    {
      "cell_type": "code",
      "metadata": {
        "id": "Z-bzGjxBwzeK",
        "colab_type": "code",
        "colab": {}
      },
      "source": [
        "#applying optimizer(Optimization)\n",
        "optimizer = tf.train.AdamOptimizer(learning_rate = 0.01)\n",
        "optimize = optimizer.minimize(cost)"
      ],
      "execution_count": 0,
      "outputs": []
    },
    {
      "cell_type": "code",
      "metadata": {
        "id": "hJmbEml2w9dx",
        "colab_type": "code",
        "colab": {}
      },
      "source": [
        "sess = tf.Session()\n",
        "sess.run(tf.global_variables_initializer())"
      ],
      "execution_count": 0,
      "outputs": []
    },
    {
      "cell_type": "code",
      "metadata": {
        "id": "yYwH-562xBzT",
        "colab_type": "code",
        "outputId": "abf07ae8-cee0-4ec7-f124-28586b6f49d7",
        "colab": {
          "base_uri": "https://localhost:8080/",
          "height": 457
        }
      },
      "source": [
        "#Code for running the optimization multiple times using Batch Gradient Descent\n",
        "batch_size = 100\n",
        "for i in range(25):\n",
        "  num_batches =int(mnist.train.num_examples/batch_size)\n",
        "  total_cost = 0\n",
        "  for j in range(num_batches):\n",
        "    batch_x, batch_y = mnist.train.next_batch(batch_size)\n",
        "    c, _ = sess.run([cost, optimize], feed_dict={x:batch_x, y:batch_y, keep_prob : 0.8})\n",
        "    total_cost += c \n",
        "  print(total_cost)"
      ],
      "execution_count": 0,
      "outputs": [
        {
          "output_type": "stream",
          "text": [
            "1144648.5656599998\n",
            "34682.76546555187\n",
            "18659.35139129281\n",
            "13083.63093914128\n",
            "9394.254910353018\n",
            "8383.55611038208\n",
            "7405.76298181629\n",
            "6633.619544106334\n",
            "6014.135699672891\n",
            "4906.571453391856\n",
            "5441.963262381191\n",
            "4757.388761868138\n",
            "4264.480624604739\n",
            "3615.06663277971\n",
            "3469.1398968335634\n",
            "3312.3576333317897\n",
            "2874.959185911621\n",
            "2777.0060368684285\n",
            "2773.5190906186886\n",
            "2480.374115091441\n",
            "2403.4897282464844\n",
            "1938.55092473013\n",
            "1769.738767819651\n",
            "2330.473597402875\n",
            "1623.4606935428915\n"
          ],
          "name": "stdout"
        }
      ]
    },
    {
      "cell_type": "code",
      "metadata": {
        "id": "O5ed8yhJxQYG",
        "colab_type": "code",
        "outputId": "cc3c21f7-9696-43d6-a002-8409c2313531",
        "colab": {
          "base_uri": "https://localhost:8080/",
          "height": 34
        }
      },
      "source": [
        "#Code to find accuracy on test data\n",
        "predictions = tf.argmax(pred, 1)\n",
        "true_labels = tf.argmax(y, 1)\n",
        "correct_predictions = tf.equal(predictions, true_labels)\n",
        "\n",
        "predictions_eval,labels, correct_pred  = sess.run([predictions, true_labels, \n",
        "                                                   correct_predictions], \n",
        "                                                  feed_dict={x:mnist.train.images, y:mnist.train.labels, keep_prob = 1.0})\n",
        "correct_pred.sum()"
      ],
      "execution_count": 0,
      "outputs": [
        {
          "output_type": "execute_result",
          "data": {
            "text/plain": [
              "54888"
            ]
          },
          "metadata": {
            "tags": []
          },
          "execution_count": 27
        }
      ]
    },
    {
      "cell_type": "code",
      "metadata": {
        "id": "am9OgI-6LSwe",
        "colab_type": "code",
        "colab": {}
      },
      "source": [
        ""
      ],
      "execution_count": 0,
      "outputs": []
    },
    {
      "cell_type": "code",
      "metadata": {
        "id": "w4zQSUWZKocN",
        "colab_type": "code",
        "colab": {}
      },
      "source": [
        ""
      ],
      "execution_count": 0,
      "outputs": []
    }
  ]
}